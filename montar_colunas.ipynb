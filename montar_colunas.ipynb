{
 "cells": [
  {
   "cell_type": "code",
   "execution_count": 1,
   "metadata": {},
   "outputs": [
    {
     "data": {
      "text/html": [
       "<div>\n",
       "<style scoped>\n",
       "    .dataframe tbody tr th:only-of-type {\n",
       "        vertical-align: middle;\n",
       "    }\n",
       "\n",
       "    .dataframe tbody tr th {\n",
       "        vertical-align: top;\n",
       "    }\n",
       "\n",
       "    .dataframe thead th {\n",
       "        text-align: right;\n",
       "    }\n",
       "</style>\n",
       "<table border=\"1\" class=\"dataframe\">\n",
       "  <thead>\n",
       "    <tr style=\"text-align: right;\">\n",
       "      <th></th>\n",
       "      <th>30:87:D9:02:FA:C8</th>\n",
       "      <th>30:87:D9:02:FE:08</th>\n",
       "      <th>B4:79:C8:05:B9:38</th>\n",
       "      <th>B4:79:C8:05:B9:A8</th>\n",
       "      <th>B4:79:C8:05:C2:38</th>\n",
       "      <th>B4:79:C8:05:C2:78</th>\n",
       "      <th>B4:79:C8:38:B1:C8</th>\n",
       "      <th>B4:79:C8:38:C0:B8</th>\n",
       "      <th>B4:79:C8:39:31:28</th>\n",
       "      <th>30:87:D9:42:FA:C8</th>\n",
       "      <th>6C:14:6E:3E:DB:50</th>\n",
       "      <th>6C:14:6E:3E:DF:10</th>\n",
       "      <th>6C:14:6E:3E:DB:52</th>\n",
       "      <th>6C:14:6E:3E:DE:71</th>\n",
       "      <th>6C:14:6E:3E:DE:72</th>\n",
       "      <th>B4:79:C8:45:C2:38</th>\n",
       "      <th>B4:79:C8:45:C2:78</th>\n",
       "      <th>B4:79:C8:78:B1:C8</th>\n",
       "      <th>E8:1D:A8:30:F1:E8</th>\n",
       "    </tr>\n",
       "  </thead>\n",
       "  <tbody>\n",
       "  </tbody>\n",
       "</table>\n",
       "</div>"
      ],
      "text/plain": [
       "Empty DataFrame\n",
       "Columns: [30:87:D9:02:FA:C8, 30:87:D9:02:FE:08, B4:79:C8:05:B9:38, B4:79:C8:05:B9:A8, B4:79:C8:05:C2:38, B4:79:C8:05:C2:78, B4:79:C8:38:B1:C8, B4:79:C8:38:C0:B8, B4:79:C8:39:31:28, 30:87:D9:42:FA:C8, 6C:14:6E:3E:DB:50, 6C:14:6E:3E:DF:10, 6C:14:6E:3E:DB:52, 6C:14:6E:3E:DE:71, 6C:14:6E:3E:DE:72, B4:79:C8:45:C2:38, B4:79:C8:45:C2:78, B4:79:C8:78:B1:C8, E8:1D:A8:30:F1:E8]\n",
       "Index: []"
      ]
     },
     "execution_count": 1,
     "metadata": {},
     "output_type": "execute_result"
    }
   ],
   "source": [
    "import pandas as pd\n",
    "\n",
    "mac_conhecidos = [\n",
    "    '30:87:D9:02:FA:C8',\n",
    "    '30:87:D9:02:FE:08',\n",
    "    'B4:79:C8:05:B9:38',\n",
    "    'B4:79:C8:05:B9:A8',\n",
    "    'B4:79:C8:05:C2:38',\n",
    "    'B4:79:C8:05:C2:78',\n",
    "    'B4:79:C8:38:B1:C8',\n",
    "    'B4:79:C8:38:C0:B8',\n",
    "    'B4:79:C8:39:31:28',\n",
    "    '30:87:D9:42:FA:C8',\n",
    "    '6C:14:6E:3E:DB:50',\n",
    "    '6C:14:6E:3E:DF:10',\n",
    "    '6C:14:6E:3E:DB:52',\n",
    "    '6C:14:6E:3E:DE:71',\n",
    "    '6C:14:6E:3E:DE:72',\n",
    "    'B4:79:C8:45:C2:38',\n",
    "    'B4:79:C8:45:C2:78',\n",
    "    'B4:79:C8:78:B1:C8',\n",
    "    'E8:1D:A8:30:F1:E8'\n",
    "]\n",
    "\n",
    "df = pd.DataFrame(columns = mac_conhecidos)\n"
   ]
  },
  {
   "cell_type": "code",
   "execution_count": null,
   "metadata": {},
   "outputs": [],
   "source": [
    "macs_recebido = ['6C:14:6E:3E:DB:52']\n",
    "sinal_recebido = 30\n",
    "sala = 'sala 1'\n",
    "\n",
    "df[sala][mac_recebido] = sinal_recebido "
   ]
  }
 ],
 "metadata": {
  "kernelspec": {
   "display_name": "Python 3",
   "language": "python",
   "name": "python3"
  },
  "language_info": {
   "codemirror_mode": {
    "name": "ipython",
    "version": 3
   },
   "file_extension": ".py",
   "mimetype": "text/x-python",
   "name": "python",
   "nbconvert_exporter": "python",
   "pygments_lexer": "ipython3",
   "version": "3.10.11"
  }
 },
 "nbformat": 4,
 "nbformat_minor": 2
}
